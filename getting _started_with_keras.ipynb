{
 "cells": [
  {
   "cell_type": "code",
   "execution_count": 21,
   "metadata": {},
   "outputs": [],
   "source": [
    "#getting started with keras\n",
    "#sequential is used for linear stack of data - we can create a model by passing a list of layer instances to the constructor\n",
    "from keras.models import Sequential\n",
    "from keras.layers import Dense, Activation\n",
    "model = Sequential([\n",
    "    Dense(32, input_shape=(784,)),\n",
    "    Activation('relu'),\n",
    "    Dense(10),\n",
    "    Activation('softmax')\n",
    "])\n"
   ]
  },
  {
   "cell_type": "code",
   "execution_count": 22,
   "metadata": {},
   "outputs": [],
   "source": [
    "#we can also simply add layers via the .add() method\n",
    "model = Sequential()\n",
    "model.add(Dense(32, input_dim=784))\n",
    "model.add(Activation('relu'))"
   ]
  },
  {
   "cell_type": "code",
   "execution_count": 23,
   "metadata": {},
   "outputs": [],
   "source": [
    "#specifying the input shape\n",
    "model = Sequential()\n",
    "model.add(Dense(32, input_shape=(784,)))\n"
   ]
  },
  {
   "cell_type": "code",
   "execution_count": 24,
   "metadata": {},
   "outputs": [],
   "source": [
    "model = Sequential()\n",
    "model.add(Dense(32, input_dim=784))"
   ]
  },
  {
   "cell_type": "code",
   "execution_count": 25,
   "metadata": {},
   "outputs": [
    {
     "name": "stdout",
     "output_type": "stream",
     "text": [
      "<keras.engine.sequential.Sequential object at 0x000001D3F0E219B0>\n"
     ]
    }
   ],
   "source": [
    "print(model)\n",
    "#Stochastic optimization is the process of maximizing or minimizing the value of a mathematical or \n",
    "#statistical function when one or more of the input parameters is subject to randomness. \n",
    "#The word stochastic means involving chance or probability."
   ]
  },
  {
   "cell_type": "code",
   "execution_count": 26,
   "metadata": {},
   "outputs": [],
   "source": [
    "#compilation - Before training a model, you need to configure the learning process, which is done via the compile method\n",
    "#usage of optimizers:\n",
    "from keras import optimizers\n",
    "\n",
    "model = Sequential()\n",
    "model.add(Dense(64, kernel_initializer='uniform', input_shape=(10,)))\n",
    "model.add(Activation('softmax'))\n",
    "\n",
    "sgd = optimizers.SGD(lr=0.01, decay=1e-6, momentum=0.9, nesterov=True)\n",
    "model.compile(loss='mean_squared_error', optimizer=sgd)\n",
    "#we can instantiate an optimizer before passing it to model.compile()\n",
    "\n",
    "# pass optimizer by name: default parameters will be used\n",
    "model.compile(loss='mean_squared_error', optimizer='sgd')\n",
    "\n",
    "\n"
   ]
  },
  {
   "cell_type": "code",
   "execution_count": 27,
   "metadata": {},
   "outputs": [],
   "source": [
    "#parameters to all kerass optimzers\n",
    "#clipnorm - can be used to control the gradient clipping:\n",
    "from keras import optimizers\n",
    "# All parameter gradients will be clipped to\n",
    "# a maximum norm of 1.\n",
    "sgd = optimizers.SGD(lr=0.01, clipnorm=1.)\n",
    "\n",
    "from keras import optimizers\n",
    "sgd = optimizers.SGD(lr=0.01, clipvalue=0.5)"
   ]
  },
  {
   "cell_type": "code",
   "execution_count": 31,
   "metadata": {},
   "outputs": [],
   "source": [
    "#SGD\n",
    "#from keras import optimizers\n",
    "#keras.optimizers.SGD(lr=0.01, momentum=0.0, decay=0.0, nesterov=False)\n",
    "\n",
    "#sgd - stochastic gradient descent optimizer - includes support for momentum, learning rate decay and nestrov momentum\n",
    "#arguments :\n",
    "#lr - float => 0 learing rate\n",
    "#momentum - parameter that accelrates sgd in the relvant direction and dampens oscillations\n",
    "#decay - learning rate decay over each update\n",
    "#nestrov - its  aboolean whether to apply nesterov momentum or not"
   ]
  },
  {
   "cell_type": "code",
   "execution_count": 32,
   "metadata": {},
   "outputs": [],
   "source": [
    "#rmsprop- keras.optimizers.RMSprop(lr=0.001, rho=0.9, epsilon=None, decay=0.0)\n",
    "#it is used to leave the parameters of this optimizers at their default values \n",
    "#it is s agood choice for recurrent neural network\n",
    "#it divides the gradient by a running average of its recent magnitude\n",
    "#Arguments\n",
    "\n",
    "#lr: float >= 0. Learning rate.\n",
    "#rho: float >= 0.- calculate an exponentially weighted average over the square of the gradients\n",
    "#epsilon: float >= 0. Fuzz factor. If None, defaults to K.epsilon().\n",
    "#decay: float >= 0. Learning rate decay over each update.\n",
    "\n"
   ]
  },
  {
   "cell_type": "code",
   "execution_count": 33,
   "metadata": {},
   "outputs": [],
   "source": [
    "#adam- keras.optimizers.Adam(lr=0.001, beta_1=0.9, beta_2=0.999, epsilon=None, decay=0.0, amsgrad=False)\n",
    "#Default parameters follow those provided in the original paper.\n",
    "#lr: float >= 0. Learning rate.\n",
    "#beta_1: float, 0 < beta < 1. Generally close to 1.\n",
    "#beta_2: float, 0 < beta < 1. Generally close to 1.\n",
    "#epsilon: float >= 0. Fuzz factor. If None, defaults to K.epsilon().\n",
    "#decay: float >= 0. Learning rate decay over each update.\n",
    "#amsgrad: boolean. Whether to apply the AMSGrad variant of this algorithm from the paper \"On the Convergence of Adam and Beyond\".\n"
   ]
  },
  {
   "cell_type": "code",
   "execution_count": 36,
   "metadata": {},
   "outputs": [],
   "source": [
    "#for a multi - classification problem\n",
    "model.compile(optimizer='rmsprop',\n",
    "             loss='categorical_crossentropy',\n",
    "             metrics=['accuracy'])\n",
    "# for a binary classifcation problem\n",
    "model.compile(optimizer='rmsprop',\n",
    "             loss='binary_crossentropy',\n",
    "             metrics=['accuracy'])\n",
    "#for mean squared errror regression problem\n",
    "model.compile(optimizer='rmsprop',\n",
    "             loss='mse')\n",
    "#For custom metrics\n",
    "import keras.backend as K\n",
    "def mean_pred(y_true, y_pred):\n",
    "    return K.mean(y_pred)\n",
    "model.compile(optimizer='rmsprop',\n",
    "             loss='binary_crossentropy',\n",
    "             metrics = ['accuracy', mean_pred])\n",
    "    \n"
   ]
  },
  {
   "cell_type": "code",
   "execution_count": 41,
   "metadata": {},
   "outputs": [
    {
     "name": "stdout",
     "output_type": "stream",
     "text": [
      "WARNING:tensorflow:From C:\\Users\\Challa Karthik\\AppData\\Roaming\\Python\\Python35\\site-packages\\tensorflow\\python\\ops\\math_ops.py:3066: to_int32 (from tensorflow.python.ops.math_ops) is deprecated and will be removed in a future version.\n",
      "Instructions for updating:\n",
      "Use tf.cast instead.\n",
      "Epoch 1/10\n",
      "1000/1000 [==============================] - 1s 607us/step - loss: 0.6957 - acc: 0.5430\n",
      "Epoch 2/10\n",
      "1000/1000 [==============================] - 0s 44us/step - loss: 0.6873 - acc: 0.5510\n",
      "Epoch 3/10\n",
      "1000/1000 [==============================] - 0s 32us/step - loss: 0.6808 - acc: 0.5650\n",
      "Epoch 4/10\n",
      "1000/1000 [==============================] - 0s 36us/step - loss: 0.6781 - acc: 0.5700\n",
      "Epoch 5/10\n",
      "1000/1000 [==============================] - 0s 32us/step - loss: 0.6758 - acc: 0.5880\n",
      "Epoch 6/10\n",
      "1000/1000 [==============================] - 0s 36us/step - loss: 0.6711 - acc: 0.5920\n",
      "Epoch 7/10\n",
      "1000/1000 [==============================] - 0s 44us/step - loss: 0.6664 - acc: 0.6040\n",
      "Epoch 8/10\n",
      "1000/1000 [==============================] - 0s 36us/step - loss: 0.6641 - acc: 0.6030\n",
      "Epoch 9/10\n",
      "1000/1000 [==============================] - 0s 32us/step - loss: 0.6604 - acc: 0.5940\n",
      "Epoch 10/10\n",
      "1000/1000 [==============================] - 0s 36us/step - loss: 0.6550 - acc: 0.6200\n"
     ]
    },
    {
     "data": {
      "text/plain": [
       "<keras.callbacks.History at 0x1d3f130d4e0>"
      ]
     },
     "execution_count": 41,
     "metadata": {},
     "output_type": "execute_result"
    }
   ],
   "source": [
    "#training - keras models are trained on numphy arrays of the input data and labels\n",
    "#for training a model, you will typically use the fit function\n",
    "\n",
    "# For a single-input model with 2 classes (binary classification):\n",
    "\n",
    "model = Sequential()\n",
    "model.add(Dense(32, activation='relu', input_dim=100))\n",
    "model.add(Dense(1, activation='sigmoid'))\n",
    "model.compile(optimizer='rmsprop',\n",
    "              loss='binary_crossentropy',\n",
    "              metrics=['accuracy'])\n",
    "\n",
    "# Generate dummy data\n",
    "import numpy as np\n",
    "data = np.random.random((1000, 100))\n",
    "labels = np.random.randint(2, size=(1000, 1))\n",
    "\n",
    "# Train the model, iterating on the data in batches of 32 samples\n",
    "model.fit(data, labels, epochs=10, batch_size=32)"
   ]
  },
  {
   "cell_type": "code",
   "execution_count": 44,
   "metadata": {},
   "outputs": [
    {
     "name": "stdout",
     "output_type": "stream",
     "text": [
      "Epoch 1/10\n",
      "1000/1000 [==============================] - 0s 328us/step - loss: 2.3506 - acc: 0.0960\n",
      "Epoch 2/10\n",
      "1000/1000 [==============================] - 0s 40us/step - loss: 2.3104 - acc: 0.1140\n",
      "Epoch 3/10\n",
      "1000/1000 [==============================] - 0s 32us/step - loss: 2.2988 - acc: 0.1130\n",
      "Epoch 4/10\n",
      "1000/1000 [==============================] - 0s 40us/step - loss: 2.2883 - acc: 0.1180\n",
      "Epoch 5/10\n",
      "1000/1000 [==============================] - 0s 36us/step - loss: 2.2818 - acc: 0.1250\n",
      "Epoch 6/10\n",
      "1000/1000 [==============================] - 0s 36us/step - loss: 2.2743 - acc: 0.1260\n",
      "Epoch 7/10\n",
      "1000/1000 [==============================] - 0s 36us/step - loss: 2.2667 - acc: 0.1390\n",
      "Epoch 8/10\n",
      "1000/1000 [==============================] - 0s 32us/step - loss: 2.2572 - acc: 0.1510\n",
      "Epoch 9/10\n",
      "1000/1000 [==============================] - 0s 36us/step - loss: 2.2507 - acc: 0.1660\n",
      "Epoch 10/10\n",
      "1000/1000 [==============================] - 0s 40us/step - loss: 2.2404 - acc: 0.1700\n"
     ]
    },
    {
     "data": {
      "text/plain": [
       "<keras.callbacks.History at 0x1d3f3875710>"
      ]
     },
     "execution_count": 44,
     "metadata": {},
     "output_type": "execute_result"
    }
   ],
   "source": [
    "# For a single-input model with 10 classes (categorical classification):\n",
    "\n",
    "model = Sequential()\n",
    "model.add(Dense(32, activation='relu', input_dim=100))\n",
    "model.add(Dense(10, activation='softmax'))\n",
    "model.compile(optimizer='rmsprop',\n",
    "              loss='categorical_crossentropy',\n",
    "              metrics=['accuracy'])\n",
    "\n",
    "# Generate dummy data\n",
    "import numpy as np\n",
    "data = np.random.random((1000, 100))\n",
    "labels = np.random.randint(10, size=(1000, 1))\n",
    "import keras\n",
    "\n",
    "# Convert labels to categorical one-hot encoding\n",
    "one_hot_labels = keras.utils.to_categorical(labels, num_classes=10)\n",
    "\n",
    "# Train the model, iterating on the data in batches of 32 samples\n",
    "model.fit(data, one_hot_labels, epochs=10, batch_size=32)"
   ]
  },
  {
   "cell_type": "code",
   "execution_count": 54,
   "metadata": {},
   "outputs": [
    {
     "name": "stdout",
     "output_type": "stream",
     "text": [
      "Epoch 1/20\n",
      "1000/1000 [==============================] - 1s 527us/step - loss: 2.3719 - acc: 0.1010\n",
      "Epoch 2/20\n",
      "1000/1000 [==============================] - 0s 29us/step - loss: 2.3355 - acc: 0.1140\n",
      "Epoch 3/20\n",
      "1000/1000 [==============================] - 0s 18us/step - loss: 2.3275 - acc: 0.1060\n",
      "Epoch 4/20\n",
      "1000/1000 [==============================] - 0s 28us/step - loss: 2.3287 - acc: 0.0980\n",
      "Epoch 5/20\n",
      "1000/1000 [==============================] - 0s 35us/step - loss: 2.3110 - acc: 0.1100\n",
      "Epoch 6/20\n",
      "1000/1000 [==============================] - 0s 36us/step - loss: 2.3088 - acc: 0.1190\n",
      "Epoch 7/20\n",
      "1000/1000 [==============================] - 0s 46us/step - loss: 2.3131 - acc: 0.1030\n",
      "Epoch 8/20\n",
      "1000/1000 [==============================] - 0s 29us/step - loss: 2.3007 - acc: 0.1070\n",
      "Epoch 9/20\n",
      "1000/1000 [==============================] - 0s 28us/step - loss: 2.3114 - acc: 0.0970\n",
      "Epoch 10/20\n",
      "1000/1000 [==============================] - 0s 29us/step - loss: 2.3056 - acc: 0.1050\n",
      "Epoch 11/20\n",
      "1000/1000 [==============================] - 0s 30us/step - loss: 2.3081 - acc: 0.1070\n",
      "Epoch 12/20\n",
      "1000/1000 [==============================] - 0s 20us/step - loss: 2.3040 - acc: 0.1020\n",
      "Epoch 13/20\n",
      "1000/1000 [==============================] - 0s 30us/step - loss: 2.2907 - acc: 0.1310\n",
      "Epoch 14/20\n",
      "1000/1000 [==============================] - 0s 27us/step - loss: 2.3018 - acc: 0.1320\n",
      "Epoch 15/20\n",
      "1000/1000 [==============================] - 0s 30us/step - loss: 2.3082 - acc: 0.1030\n",
      "Epoch 16/20\n",
      "1000/1000 [==============================] - 0s 27us/step - loss: 2.2980 - acc: 0.1120\n",
      "Epoch 17/20\n",
      "1000/1000 [==============================] - 0s 22us/step - loss: 2.3010 - acc: 0.1140\n",
      "Epoch 18/20\n",
      "1000/1000 [==============================] - 0s 26us/step - loss: 2.2936 - acc: 0.1220\n",
      "Epoch 19/20\n",
      "1000/1000 [==============================] - 0s 24us/step - loss: 2.2960 - acc: 0.1190\n",
      "Epoch 20/20\n",
      "1000/1000 [==============================] - 0s 28us/step - loss: 2.2971 - acc: 0.1150\n",
      "100/100 [==============================] - 0s 1ms/step\n"
     ]
    }
   ],
   "source": [
    "#multilevel perceptron for multi-class softmax classification:\n",
    "import keras\n",
    "from keras.models import Sequential\n",
    "from keras.layers import Dense, Dropout, Activation\n",
    "from keras.optimizers import SGD\n",
    "#Generate dummy data\n",
    "import numpy as np\n",
    "x_train = np.random.random((1000, 20))\n",
    "y_train = keras.utils.to_categorical(np.random.randint(10, size=(1000, 1)), num_classes=10)\n",
    "x_test = np.random.random((100, 20))\n",
    "y_test = keras.utils.to_categorical(np.random.randint(10, size=(100, 1)), num_classes=10)\n",
    "model = Sequential()\n",
    "#dense(64) is a fully-connected\n",
    "model.add(Dense(64, activation='relu', input_dim=20))\n",
    "model.add(Dropout(0.5))\n",
    "model.add(Dense(64, activation='relu'))\n",
    "model.add(Dropout(0.5))\n",
    "model.add(Dense(10, activation='softmax'))\n",
    "\n",
    "sgd = SGD(lr=0.01, decay=1e-6, momentum=0.9, nesterov=True)\n",
    "model.compile(loss='categorical_crossentropy',\n",
    "              optimizer=sgd,\n",
    "              metrics=['accuracy'])\n",
    "model.fit(x_train, y_train,\n",
    "         epochs=20,\n",
    "         batch_size=128)\n",
    "score=model.evaluate(x_test,y_test,batch_size=128)"
   ]
  },
  {
   "cell_type": "code",
   "execution_count": 73,
   "metadata": {},
   "outputs": [
    {
     "name": "stdout",
     "output_type": "stream",
     "text": [
      "Epoch 1/20\n",
      "1000/1000 [==============================] - 1s 546us/step - loss: 0.7186 - acc: 0.5060\n",
      "Epoch 2/20\n",
      "1000/1000 [==============================] - 0s 21us/step - loss: 0.7086 - acc: 0.5090\n",
      "Epoch 3/20\n",
      "1000/1000 [==============================] - 0s 23us/step - loss: 0.7110 - acc: 0.5200\n",
      "Epoch 4/20\n",
      "1000/1000 [==============================] - 0s 22us/step - loss: 0.7041 - acc: 0.5030\n",
      "Epoch 5/20\n",
      "1000/1000 [==============================] - 0s 28us/step - loss: 0.7022 - acc: 0.4940\n",
      "Epoch 6/20\n",
      "1000/1000 [==============================] - 0s 34us/step - loss: 0.7012 - acc: 0.4850\n",
      "Epoch 7/20\n",
      "1000/1000 [==============================] - 0s 20us/step - loss: 0.7057 - acc: 0.4900\n",
      "Epoch 8/20\n",
      "1000/1000 [==============================] - 0s 34us/step - loss: 0.6947 - acc: 0.5180\n",
      "Epoch 9/20\n",
      "1000/1000 [==============================] - 0s 28us/step - loss: 0.6956 - acc: 0.5400\n",
      "Epoch 10/20\n",
      "1000/1000 [==============================] - 0s 25us/step - loss: 0.6966 - acc: 0.5000\n",
      "Epoch 11/20\n",
      "1000/1000 [==============================] - 0s 25us/step - loss: 0.6990 - acc: 0.4860\n",
      "Epoch 12/20\n",
      "1000/1000 [==============================] - 0s 26us/step - loss: 0.6903 - acc: 0.5400\n",
      "Epoch 13/20\n",
      "1000/1000 [==============================] - 0s 25us/step - loss: 0.6937 - acc: 0.5010\n",
      "Epoch 14/20\n",
      "1000/1000 [==============================] - 0s 22us/step - loss: 0.6981 - acc: 0.4870\n",
      "Epoch 15/20\n",
      "1000/1000 [==============================] - 0s 26us/step - loss: 0.6957 - acc: 0.5200\n",
      "Epoch 16/20\n",
      "1000/1000 [==============================] - 0s 24us/step - loss: 0.6900 - acc: 0.5240\n",
      "Epoch 17/20\n",
      "1000/1000 [==============================] - 0s 31us/step - loss: 0.6889 - acc: 0.5350\n",
      "Epoch 18/20\n",
      "1000/1000 [==============================] - 0s 31us/step - loss: 0.6963 - acc: 0.5270\n",
      "Epoch 19/20\n",
      "1000/1000 [==============================] - 0s 27us/step - loss: 0.6868 - acc: 0.5580\n",
      "Epoch 20/20\n",
      "1000/1000 [==============================] - 0s 26us/step - loss: 0.6922 - acc: 0.5170\n",
      "100/100 [==============================] - 0s 1ms/step\n"
     ]
    }
   ],
   "source": [
    "import numpy as np\n",
    "from keras.models import Sequential\n",
    "from keras.layers import Dense, Dropout\n",
    "\n",
    "# Generate dummy data\n",
    "x_train = np.random.random((1000, 20))\n",
    "y_train = np.random.randint(2, size=(1000, 1))\n",
    "x_test = np.random.random((100, 20))\n",
    "y_test = np.random.randint(2, size=(100, 1))\n",
    "\n",
    "model = Sequential()\n",
    "model.add(Dense(64, input_dim=20, activation='relu'))\n",
    "model.add(Dropout(0.5))\n",
    "model.add(Dense(64, activation='relu'))\n",
    "model.add(Dropout(0.5))\n",
    "model.add(Dense(1, activation='sigmoid'))\n",
    "\n",
    "model.compile(loss='binary_crossentropy',\n",
    "              optimizer='rmsprop',\n",
    "              metrics=['accuracy'])\n",
    "\n",
    "model.fit(x_train, y_train,\n",
    "          epochs=20,\n",
    "          batch_size=128)\n",
    "score = model.evaluate(x_test, y_test, batch_size=128)"
   ]
  },
  {
   "cell_type": "code",
   "execution_count": 74,
   "metadata": {},
   "outputs": [
    {
     "name": "stdout",
     "output_type": "stream",
     "text": [
      "Epoch 1/10\n",
      "1000/1000 [==============================] - 3s 3ms/step - loss: 0.6949 - acc: 0.5160\n",
      "Epoch 2/10\n",
      "1000/1000 [==============================] - 2s 2ms/step - loss: 0.6972 - acc: 0.4830\n",
      "Epoch 3/10\n",
      "1000/1000 [==============================] - 2s 2ms/step - loss: 0.6971 - acc: 0.4820\n",
      "Epoch 4/10\n",
      "1000/1000 [==============================] - 2s 2ms/step - loss: 0.6925 - acc: 0.5350\n",
      "Epoch 5/10\n",
      "1000/1000 [==============================] - 2s 2ms/step - loss: 0.6950 - acc: 0.5200\n",
      "Epoch 6/10\n",
      "1000/1000 [==============================] - 2s 2ms/step - loss: 0.6942 - acc: 0.5240\n",
      "Epoch 7/10\n",
      "1000/1000 [==============================] - 2s 2ms/step - loss: 0.6949 - acc: 0.5020\n",
      "Epoch 8/10\n",
      "1000/1000 [==============================] - 2s 2ms/step - loss: 0.6935 - acc: 0.5240\n",
      "Epoch 9/10\n",
      "1000/1000 [==============================] - 2s 2ms/step - loss: 0.6948 - acc: 0.4970\n",
      "Epoch 10/10\n",
      "1000/1000 [==============================] - 2s 2ms/step - loss: 0.6932 - acc: 0.5190\n",
      "100/100 [==============================] - 0s 4ms/step\n"
     ]
    }
   ],
   "source": [
    "#sequnce classification with lstm\n",
    "from keras.models import Sequential\n",
    "from keras.layers import Dense, Dropout\n",
    "from keras.layers import Embedding\n",
    "from keras.layers import LSTM\n",
    "\n",
    "max_features = 1024\n",
    "\n",
    "model = Sequential()\n",
    "model.add(Embedding(max_features, output_dim=256))\n",
    "model.add(LSTM(128))\n",
    "model.add(Dropout(0.5))\n",
    "model.add(Dense(1, activation='sigmoid'))\n",
    "\n",
    "model.compile(loss='binary_crossentropy',\n",
    "              optimizer='rmsprop',\n",
    "              metrics=['accuracy'])\n",
    "\n",
    "model.fit(x_train, y_train, batch_size=16, epochs=10)\n",
    "score = model.evaluate(x_test, y_test, batch_size=16)\n"
   ]
  },
  {
   "cell_type": "code",
   "execution_count": null,
   "metadata": {},
   "outputs": [],
   "source": []
  }
 ],
 "metadata": {
  "kernelspec": {
   "display_name": "Python 3",
   "language": "python",
   "name": "python3"
  },
  "language_info": {
   "codemirror_mode": {
    "name": "ipython",
    "version": 3
   },
   "file_extension": ".py",
   "mimetype": "text/x-python",
   "name": "python",
   "nbconvert_exporter": "python",
   "pygments_lexer": "ipython3",
   "version": "3.5.2"
  }
 },
 "nbformat": 4,
 "nbformat_minor": 2
}
